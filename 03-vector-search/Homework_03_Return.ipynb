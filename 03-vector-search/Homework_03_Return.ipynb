{
 "cells": [
  {
   "cell_type": "markdown",
   "id": "c043cd5d",
   "metadata": {},
   "source": [
    "## Homework: Vector Search\n",
    "\n",
    "In this homework, we'll experiemnt with vector with and without Elasticsearch\n",
    "\n",
    "> It's possible that your answers won't match exactly. If it's the case, select the closest one."
   ]
  },
  {
   "cell_type": "code",
   "execution_count": null,
   "id": "c05c03fc",
   "metadata": {},
   "outputs": [],
   "source": []
  },
  {
   "cell_type": "markdown",
   "id": "49f908be",
   "metadata": {},
   "source": [
    "## Q1. Getting the embeddings model\n",
    "\n",
    "First, we will get the embeddings model `multi-qa-distilbert-cos-v1` from\n",
    "[the Sentence Transformer library](https://www.sbert.net/docs/sentence_transformer/pretrained_models.html#model-overview)\n",
    "\n",
    "```bash\n",
    "from sentence_transformers import SentenceTransformer\n",
    "embedding_model = SentenceTransformer(model_name)\n",
    "```\n",
    "\n",
    "Create the embedding for this user question:\n",
    "\n",
    "```python\n",
    "user_question = \"I just discovered the course. Can I still join it?\"\n",
    "```\n",
    "\n",
    "What's the first value of the resulting vector?\n",
    "\n",
    "* -0.24\n",
    "* -0.04\n",
    "* 0.07\n",
    "* 0.27"
   ]
  },
  {
   "cell_type": "code",
   "execution_count": 1,
   "id": "ce54969e-59df-4f3d-acdd-54319f392ae4",
   "metadata": {},
   "outputs": [],
   "source": [
    "# Install sentence_transformers.\n",
    "#!pip install sentence_transformers==2.7.0"
   ]
  },
  {
   "cell_type": "code",
   "execution_count": 2,
   "id": "328ab511",
   "metadata": {},
   "outputs": [
    {
     "name": "stderr",
     "output_type": "stream",
     "text": [
      "/home/codespace/miniconda3/lib/python3.9/site-packages/tqdm/auto.py:21: TqdmWarning: IProgress not found. Please update jupyter and ipywidgets. See https://ipywidgets.readthedocs.io/en/stable/user_install.html\n",
      "  from .autonotebook import tqdm as notebook_tqdm\n"
     ]
    }
   ],
   "source": [
    "# Create embeddings using pretrained models.\n",
    "from sentence_transformers import SentenceTransformer\n",
    "model_name = 'multi-qa-distilbert-cos-v1'\n",
    "model = SentenceTransformer(model_name)"
   ]
  },
  {
   "cell_type": "code",
   "execution_count": 3,
   "id": "76836bad-2918-456d-a9bc-1203617b73c6",
   "metadata": {},
   "outputs": [],
   "source": [
    "# Define user_question.\n",
    "user_question = \"I just discovered the course. Can I still join it?\""
   ]
  },
  {
   "cell_type": "code",
   "execution_count": 4,
   "id": "98c20558-fe53-40a4-ba46-a6c722197149",
   "metadata": {},
   "outputs": [],
   "source": [
    "# Encode user_question.\n",
    "encode_vector = model.encode(user_question)"
   ]
  },
  {
   "cell_type": "code",
   "execution_count": 5,
   "id": "6325607c-75d3-4665-a54d-5b36b9b1f7f0",
   "metadata": {},
   "outputs": [
    {
     "data": {
      "text/plain": [
       "768"
      ]
     },
     "execution_count": 5,
     "metadata": {},
     "output_type": "execute_result"
    }
   ],
   "source": [
    "# Check length of encode_vector\n",
    "len(encode_vector)"
   ]
  },
  {
   "cell_type": "code",
   "execution_count": 6,
   "id": "3f7a0ece-bfc9-43f5-ac9c-3eb141f8c44a",
   "metadata": {},
   "outputs": [
    {
     "name": "stdout",
     "output_type": "stream",
     "text": [
      "The answer to question 1 is: 0.07822265475988388\n"
     ]
    }
   ],
   "source": [
    "# Question 1 answer.\n",
    "print(f'The answer to question 1 is: {encode_vector[0]}')"
   ]
  },
  {
   "cell_type": "code",
   "execution_count": null,
   "id": "781a3773-fb6c-4246-b4ad-bb412c651804",
   "metadata": {},
   "outputs": [],
   "source": []
  },
  {
   "cell_type": "markdown",
   "id": "dd3544dd",
   "metadata": {},
   "source": [
    "## Prepare the documents\n",
    "\n",
    "Now we will create the embeddings for the documents.\n",
    "\n",
    "Load the documents with ids that we prepared in the module:\n",
    "\n",
    "```python\n",
    "import requests \n",
    "\n",
    "base_url = 'https://github.com/DataTalksClub/llm-zoomcamp/blob/main'\n",
    "relative_url = '03-vector-search/eval/documents-with-ids.json'\n",
    "docs_url = f'{base_url}/{relative_url}?raw=1'\n",
    "docs_response = requests.get(docs_url)\n",
    "documents = docs_response.json()\n",
    "```\n",
    "\n",
    "We will use only a subset of the questions - the questions\n",
    "for `\"machine-learning-zoomcamp\"`. After filtering, you should\n",
    "have only 375 documents"
   ]
  },
  {
   "cell_type": "code",
   "execution_count": 7,
   "id": "2c5e6633",
   "metadata": {},
   "outputs": [],
   "source": [
    "# Load the documents with ids prepared in the module.\n",
    "import requests \n",
    "\n",
    "base_url = 'https://github.com/DataTalksClub/llm-zoomcamp/blob/main'\n",
    "relative_url = '03-vector-search/eval/documents-with-ids.json'\n",
    "docs_url = f'{base_url}/{relative_url}?raw=1'\n",
    "docs_response = requests.get(docs_url)\n",
    "docs_raw = docs_response.json()"
   ]
  },
  {
   "cell_type": "code",
   "execution_count": 8,
   "id": "ceda9d09-6cac-43dc-98e4-9411c59b54eb",
   "metadata": {},
   "outputs": [
    {
     "data": {
      "text/plain": [
       "{'text': \"The purpose of this document is to capture frequently asked technical questions\\nThe exact day and hour of the course will be 15th Jan 2024 at 17h00. The course will start with the first  “Office Hours'' live.1\\nSubscribe to course public Google Calendar (it works from Desktop only).\\nRegister before the course starts using this link.\\nJoin the course Telegram channel with announcements.\\nDon’t forget to register in DataTalks.Club's Slack and join the channel.\",\n",
       " 'section': 'General course-related questions',\n",
       " 'question': 'Course - When will the course start?',\n",
       " 'course': 'data-engineering-zoomcamp',\n",
       " 'id': 'c02e79ef'}"
      ]
     },
     "execution_count": 8,
     "metadata": {},
     "output_type": "execute_result"
    }
   ],
   "source": [
    "# Show the first entry in docs_raw.\n",
    "docs_raw[0]"
   ]
  },
  {
   "cell_type": "code",
   "execution_count": 9,
   "id": "c0150d21-a04a-498b-b32e-e9bee3154020",
   "metadata": {},
   "outputs": [
    {
     "data": {
      "text/plain": [
       "948"
      ]
     },
     "execution_count": 9,
     "metadata": {},
     "output_type": "execute_result"
    }
   ],
   "source": [
    "# Check length of docs_raw.\n",
    "len(docs_raw)"
   ]
  },
  {
   "cell_type": "code",
   "execution_count": 10,
   "id": "eb577339-fc95-4218-bd65-34e4e3d4f2f3",
   "metadata": {},
   "outputs": [],
   "source": [
    "# Select the required documents.\n",
    "documents = []\n",
    "\n",
    "for doc in docs_raw:\n",
    "    if doc['course'] == 'machine-learning-zoomcamp':\n",
    "        documents.append(doc)"
   ]
  },
  {
   "cell_type": "code",
   "execution_count": 11,
   "id": "37b9def7-6ea6-4aa7-8a72-dd3092bce572",
   "metadata": {},
   "outputs": [
    {
     "data": {
      "text/plain": [
       "{'text': 'Machine Learning Zoomcamp FAQ\\nThe purpose of this document is to capture frequently asked technical questions.\\nWe did this for our data engineering course and it worked quite well. Check this document for inspiration on how to structure your questions and answers:\\nData Engineering Zoomcamp FAQ\\nIn the course GitHub repository there’s a link. Here it is: https://airtable.com/shryxwLd0COOEaqXo\\nwork',\n",
       " 'section': 'General course-related questions',\n",
       " 'question': 'How do I sign up?',\n",
       " 'course': 'machine-learning-zoomcamp',\n",
       " 'id': '0227b872'}"
      ]
     },
     "execution_count": 11,
     "metadata": {},
     "output_type": "execute_result"
    }
   ],
   "source": [
    "# Show the first entry in documents.\n",
    "documents[0]"
   ]
  },
  {
   "cell_type": "code",
   "execution_count": 12,
   "id": "fe387173-56cd-4e0c-b12d-b9da4815106b",
   "metadata": {},
   "outputs": [
    {
     "data": {
      "text/plain": [
       "375"
      ]
     },
     "execution_count": 12,
     "metadata": {},
     "output_type": "execute_result"
    }
   ],
   "source": [
    "# Check length of documents.\n",
    "len(documents)"
   ]
  },
  {
   "cell_type": "code",
   "execution_count": null,
   "id": "c0746f78",
   "metadata": {},
   "outputs": [],
   "source": []
  },
  {
   "cell_type": "markdown",
   "id": "3b98fb20",
   "metadata": {},
   "source": [
    "## Q2. Creating the embeddings\n",
    "\n",
    "Now for each document, we will create an embedding for both question and answer fields.\n",
    "\n",
    "We want to put all of them into a single matrix `X`:\n",
    "\n",
    "- Create a list `embeddings` \n",
    "- Iterate over each document \n",
    "- `qa_text = f'{question} {text}'`\n",
    "- compute the embedding for `qa_text`, append to `embeddings`\n",
    "- At the end, let `X = np.array(embeddings)` (`import numpy as np`) \n",
    "\n",
    "What's the shape of X? (`X.shape`). Include the parantheses. "
   ]
  },
  {
   "cell_type": "code",
   "execution_count": 13,
   "id": "3b261ec5",
   "metadata": {},
   "outputs": [
    {
     "data": {
      "text/plain": [
       "ObjectApiResponse({'acknowledged': True, 'shards_acknowledged': True, 'index': 'course-questions'})"
      ]
     },
     "execution_count": 13,
     "metadata": {},
     "output_type": "execute_result"
    }
   ],
   "source": [
    "# Create the embeddings.\n",
    "from elasticsearch import Elasticsearch\n",
    "\n",
    "es_client = Elasticsearch('http://localhost:9200') \n",
    "\n",
    "index_settings = {\n",
    "    \"settings\": {\n",
    "        \"number_of_shards\": 1,\n",
    "        \"number_of_replicas\": 0\n",
    "    },\n",
    "    \"mappings\": {\n",
    "        \"properties\": {\n",
    "            \"text\": {\"type\": \"text\"},\n",
    "            \"section\": {\"type\": \"text\"},\n",
    "            \"question\": {\"type\": \"text\"},\n",
    "            \"course\": {\"type\": \"keyword\"},\n",
    "            \"id\": {\"type\": \"keyword\"},\n",
    "            \"question_vector\": {\n",
    "                \"type\": \"dense_vector\",\n",
    "                \"dims\": 768,\n",
    "                \"index\": True,\n",
    "                \"similarity\": \"cosine\"\n",
    "            },\n",
    "            \"text_vector\": {\n",
    "                \"type\": \"dense_vector\",\n",
    "                \"dims\": 768,\n",
    "                \"index\": True,\n",
    "                \"similarity\": \"cosine\"\n",
    "            },\n",
    "            \"question_text_vector\": {\n",
    "                \"type\": \"dense_vector\",\n",
    "                \"dims\": 768,\n",
    "                \"index\": True,\n",
    "                \"similarity\": \"cosine\"\n",
    "            },\n",
    "        }\n",
    "    }\n",
    "}\n",
    "\n",
    "index_name = \"course-questions\"\n",
    "\n",
    "es_client.indices.delete(index=index_name, ignore_unavailable=True)\n",
    "es_client.indices.create(index=index_name, body=index_settings)"
   ]
  },
  {
   "cell_type": "code",
   "execution_count": 14,
   "id": "b11e8386",
   "metadata": {},
   "outputs": [],
   "source": [
    "# Import tqdm.\n",
    "from tqdm.auto import tqdm"
   ]
  },
  {
   "cell_type": "code",
   "execution_count": 15,
   "id": "1409c686",
   "metadata": {},
   "outputs": [
    {
     "name": "stderr",
     "output_type": "stream",
     "text": [
      "100%|█████████████████████████████████████████████████████████████████████████████| 375/375 [01:19<00:00,  4.71it/s]\n"
     ]
    }
   ],
   "source": [
    "# Loop over each document in documents.\n",
    "embeddings = []\n",
    "\n",
    "for doc in tqdm(documents):    \n",
    "    \n",
    "    question = doc['question']\n",
    "    text = doc['text']\n",
    "    qa_text = f'{question} {text}'\n",
    "\n",
    "    v_qa = model.encode(question)\n",
    "    v_text = model.encode(text)\n",
    "    v_qa_text = model.encode(qa_text)\n",
    "\n",
    "    embeddings.append(v_qa_text)"
   ]
  },
  {
   "cell_type": "code",
   "execution_count": 16,
   "id": "f070fd37-9da3-4ee9-b5b6-fcbb0cc0ee99",
   "metadata": {},
   "outputs": [],
   "source": [
    "# Create the matrix X.\n",
    "import numpy as np\n",
    "X = np.array(embeddings)"
   ]
  },
  {
   "cell_type": "code",
   "execution_count": 17,
   "id": "b4d6cc04-cb59-4905-bbfd-639faa03cf66",
   "metadata": {},
   "outputs": [],
   "source": [
    "# Compute the shape of X.\n",
    "shape_of_X = X.shape"
   ]
  },
  {
   "cell_type": "code",
   "execution_count": 18,
   "id": "da0ce90d-c4b2-4a6a-9767-810ab3c1a68e",
   "metadata": {},
   "outputs": [
    {
     "name": "stdout",
     "output_type": "stream",
     "text": [
      "The answer to question 2 is: (375, 768)\n"
     ]
    }
   ],
   "source": [
    "# Question 2 answer.\n",
    "print(f'The answer to question 2 is: {shape_of_X}')"
   ]
  },
  {
   "cell_type": "code",
   "execution_count": null,
   "id": "600e32d1",
   "metadata": {},
   "outputs": [],
   "source": []
  },
  {
   "cell_type": "markdown",
   "id": "1d5637d4",
   "metadata": {},
   "source": [
    "## Q3. Search\n",
    "\n",
    "We have the embeddings and the query vector. Now let's compute the \n",
    "cosine similarity between the vector from Q1 (let's call it `v`) and the matrix from Q2. \n",
    "\n",
    "The vectors returned from the embedding model are already\n",
    "normalized (you can check it by computing a dot product of a vector\n",
    "with itself - it should return 1.0). This means that in order\n",
    "to compute the coside similarity, it's sufficient to \n",
    "multiply the matrix `X` by the vector `v`:\n",
    "\n",
    "\n",
    "```python\n",
    "scores = X.dot(v)\n",
    "```\n",
    "\n",
    "What's the highest score in the results?\n",
    "\n",
    "- 65.0 \n",
    "- 6.5\n",
    "- 0.65\n",
    "- 0.065"
   ]
  },
  {
   "cell_type": "code",
   "execution_count": 19,
   "id": "91ecbf7c-4830-4070-ac66-a9d478edd70a",
   "metadata": {},
   "outputs": [],
   "source": [
    "# Define vector from question 1.\n",
    "v = encode_vector"
   ]
  },
  {
   "cell_type": "code",
   "execution_count": 20,
   "id": "775455a3-6b50-491d-a3d9-45e8d8f8f483",
   "metadata": {},
   "outputs": [
    {
     "data": {
      "text/plain": [
       "0.9999999"
      ]
     },
     "execution_count": 20,
     "metadata": {},
     "output_type": "execute_result"
    }
   ],
   "source": [
    "# Check if v is normalized, ~ 1.\n",
    "v.dot(v)"
   ]
  },
  {
   "cell_type": "code",
   "execution_count": 21,
   "id": "4eeb8568",
   "metadata": {},
   "outputs": [],
   "source": [
    "# Compute the cosine similarity of X.\n",
    "scores = X.dot(v)"
   ]
  },
  {
   "cell_type": "code",
   "execution_count": 22,
   "id": "222922bd-e609-4ac3-b53d-32e88057f837",
   "metadata": {},
   "outputs": [],
   "source": [
    "# Get the maximum score.\n",
    "max_score = max(scores)"
   ]
  },
  {
   "cell_type": "code",
   "execution_count": 23,
   "id": "d9832534",
   "metadata": {},
   "outputs": [
    {
     "name": "stdout",
     "output_type": "stream",
     "text": [
      "The answer to question 3 is: 0.6506572961807251\n"
     ]
    }
   ],
   "source": [
    "# Question 3 answer.\n",
    "print(f'The answer to question 3 is: {max_score}')"
   ]
  },
  {
   "cell_type": "code",
   "execution_count": null,
   "id": "8f8ede74",
   "metadata": {},
   "outputs": [],
   "source": []
  },
  {
   "cell_type": "markdown",
   "id": "b106d321",
   "metadata": {},
   "source": [
    "## Vector search\n",
    "\n",
    "We can now compute the similarity between a query vector and all the embeddings.\n",
    "\n",
    "Let's use this to implement our own vector search\n",
    "\n",
    "```python\n",
    "class VectorSearchEngine():\n",
    "    def __init__(self, documents, embeddings):\n",
    "        self.documents = documents\n",
    "        self.embeddings = embeddings\n",
    "\n",
    "    def search(self, v_query, num_results=10):\n",
    "        scores = self.embeddings.dot(v_query)\n",
    "        idx = np.argsort(-scores)[:num_results]\n",
    "        return [self.documents[i] for i in idx]\n",
    "\n",
    "search_engine = VectorSearchEngine(documents=documents, embeddings=X)\n",
    "search_engine.search(v, num_results=5)\n",
    "```\n",
    "\n",
    "If you don't understand how the `search` function work:\n",
    "\n",
    "* Ask ChatGTP or any other LLM of your choice to explain the code\n",
    "* Check our pre-course workshop about implementing a search engine [here](https://github.com/alexeygrigorev/build-your-own-search-engine)\n",
    "\n",
    "(Note: you can replace `argsort` with `argpartition` to make it a lot faster)"
   ]
  },
  {
   "cell_type": "code",
   "execution_count": 24,
   "id": "2a6005da",
   "metadata": {},
   "outputs": [
    {
     "data": {
      "text/plain": [
       "[{'text': 'Yes, you can. You won’t be able to submit some of the homeworks, but you can still take part in the course.\\nIn order to get a certificate, you need to submit 2 out of 3 course projects and review 3 peers’ Projects by the deadline. It means that if you join the course at the end of November and manage to work on two projects, you will still be eligible for a certificate.',\n",
       "  'section': 'General course-related questions',\n",
       "  'question': 'The course has already started. Can I still join it?',\n",
       "  'course': 'machine-learning-zoomcamp',\n",
       "  'id': 'ee58a693'},\n",
       " {'text': 'Welcome to the course! Go to the course page (http://mlzoomcamp.com/), scroll down and start going through the course materials. Then read everything in the cohort folder for your cohort’s year.\\nClick on the links and start watching the videos. Also watch office hours from previous cohorts. Go to DTC youtube channel and click on Playlists and search for {course yyyy}. ML Zoomcamp was first launched in 2021.\\nOr you can just use this link: http://mlzoomcamp.com/#syllabus',\n",
       "  'section': 'General course-related questions',\n",
       "  'question': 'I just joined. What should I do next? How can I access course materials?',\n",
       "  'course': 'machine-learning-zoomcamp',\n",
       "  'id': '0a278fb2'},\n",
       " {'text': \"The process is automated now, so you should receive the email eventually. If you haven’t, check your promotions tab in Gmail as well as spam.\\nIf you unsubscribed from our newsletter, you won't get course related updates too.\\nBut don't worry, it’s not a problem. To make sure you don’t miss anything, join the #course-ml-zoomcamp channel in Slack and our telegram channel with announcements. This is enough to follow the course.\",\n",
       "  'section': 'General course-related questions',\n",
       "  'question': \"I filled the form, but haven't received a confirmation email. Is it normal?\",\n",
       "  'course': 'machine-learning-zoomcamp',\n",
       "  'id': '6ba259b1'},\n",
       " {'text': 'Technically, yes. Advisable? Not really. Reasons:\\nSome homework(s) asks for specific python library versions.\\nAnswers may not match in MCQ options if using different languages other than Python 3.10 (the recommended version for 2023 cohort)\\nAnd as for midterms/capstones, your peer-reviewers may not know these other languages. Do you want to be penalized for others not knowing these other languages?\\nYou can create a separate repo using course’s lessons but written in other languages for your own learnings, but not advisable for submissions.\\ntx[source]',\n",
       "  'section': 'Miscellaneous',\n",
       "  'question': 'Can I do the course in other languages, like R or Scala?',\n",
       "  'course': 'machine-learning-zoomcamp',\n",
       "  'id': '9f261648'},\n",
       " {'text': 'We won’t re-record the course videos. The focus of the course and the skills we want to teach remained the same, and the videos are still up-to-date.\\nIf you haven’t taken part in the previous iteration, you can start watching the videos. It’ll be useful for you and you will learn new things. However, we recommend using Python 3.10 now instead of Python 3.8.',\n",
       "  'section': 'General course-related questions',\n",
       "  'question': 'The course videos are from the previous iteration. Will you release new ones or we’ll use the videos from 2021?',\n",
       "  'course': 'machine-learning-zoomcamp',\n",
       "  'id': 'e7ba6b8a'}]"
      ]
     },
     "execution_count": 24,
     "metadata": {},
     "output_type": "execute_result"
    }
   ],
   "source": [
    "# Function for vector search.\n",
    "\n",
    "class VectorSearchEngine():\n",
    "    def __init__(self, documents, embeddings):\n",
    "        self.documents = documents\n",
    "        self.embeddings = embeddings\n",
    "\n",
    "    def search(self, v_query, num_results=10):\n",
    "        scores = self.embeddings.dot(v_query)\n",
    "        idx = np.argsort(-scores)[:num_results]\n",
    "        return [self.documents[i] for i in idx]\n",
    "\n",
    "search_engine = VectorSearchEngine(documents=documents, embeddings=X)\n",
    "search_engine.search(v, num_results=5)"
   ]
  },
  {
   "cell_type": "code",
   "execution_count": null,
   "id": "78cf93e2",
   "metadata": {},
   "outputs": [],
   "source": []
  },
  {
   "cell_type": "markdown",
   "id": "d4b3db3b",
   "metadata": {},
   "source": [
    "## Q4. Hit-rate for our search engine\n",
    "\n",
    "Let's evaluate the performance of our own search engine. We will\n",
    "use the hitrate metric for evaluation.\n",
    "\n",
    "First, load the ground truth dataset:\n",
    "\n",
    "```python\n",
    "import pandas as pd\n",
    "\n",
    "base_url = 'https://github.com/DataTalksClub/llm-zoomcamp/blob/main'\n",
    "relative_url = '03-vector-search/eval/ground-truth-data.csv'\n",
    "ground_truth_url = f'{base_url}/{relative_url}?raw=1'\n",
    "\n",
    "df_ground_truth = pd.read_csv(ground_truth_url)\n",
    "df_ground_truth = df_ground_truth[df_ground_truth.course == 'machine-learning-zoomcamp']\n",
    "ground_truth = df_ground_truth.to_dict(orient='records')\n",
    "```\n",
    "\n",
    "Now use the code from the module to calculate the hitrate of\n",
    "`VectorSearchEngine` with `num_results=5`.\n",
    "\n",
    "What did you get?\n",
    "\n",
    "* 0.93\n",
    "* 0.73\n",
    "* 0.53\n",
    "* 0.33"
   ]
  },
  {
   "cell_type": "code",
   "execution_count": 25,
   "id": "baf741a1-5dcb-47b5-9d6a-2970111b29c0",
   "metadata": {},
   "outputs": [],
   "source": [
    "# Load the ground truth dataset.\n",
    "import pandas as pd\n",
    "\n",
    "base_url = 'https://github.com/DataTalksClub/llm-zoomcamp/blob/main'\n",
    "relative_url = '03-vector-search/eval/ground-truth-data.csv'\n",
    "ground_truth_url = f'{base_url}/{relative_url}?raw=1'\n",
    "\n",
    "df_ground_truth = pd.read_csv(ground_truth_url)\n",
    "df_ground_truth = df_ground_truth[df_ground_truth.course == 'machine-learning-zoomcamp']\n",
    "ground_truth = df_ground_truth.to_dict(orient='records')"
   ]
  },
  {
   "cell_type": "code",
   "execution_count": 26,
   "id": "35560296-7291-466f-9996-47c219d95d7e",
   "metadata": {},
   "outputs": [],
   "source": [
    "# Create the function vector_v\n",
    "def vector_v(doc_que):\n",
    "    return model.encode(question)"
   ]
  },
  {
   "cell_type": "code",
   "execution_count": 27,
   "id": "57437946-f53b-41a7-8d5b-50797f9c76eb",
   "metadata": {},
   "outputs": [],
   "source": [
    "# Create the function vector_X\n",
    "\n",
    "def vector_X(doc_len):\n",
    "\n",
    "    index_settings = {\n",
    "        \"settings\": {\n",
    "            \"number_of_shards\": 1,\n",
    "            \"number_of_replicas\": 0\n",
    "        },\n",
    "        \"mappings\": {\n",
    "            \"properties\": {\n",
    "                \"text\": {\"type\": \"text\"},\n",
    "                \"section\": {\"type\": \"text\"},\n",
    "                \"question\": {\"type\": \"text\"},\n",
    "                \"course\": {\"type\": \"keyword\"},\n",
    "                \"id\": {\"type\": \"keyword\"},\n",
    "                \"question_vector\": {\n",
    "                    \"type\": \"dense_vector\",\n",
    "                    \"dims\": doc_len,\n",
    "                    \"index\": True,\n",
    "                    \"similarity\": \"cosine\"\n",
    "                },\n",
    "                \"text_vector\": {\n",
    "                    \"type\": \"dense_vector\",\n",
    "                    \"dims\": doc_len,\n",
    "                    \"index\": True,\n",
    "                    \"similarity\": \"cosine\"\n",
    "                },\n",
    "                \"question_text_vector\": {\n",
    "                    \"type\": \"dense_vector\",\n",
    "                    \"dims\": doc_len,\n",
    "                    \"index\": True,\n",
    "                    \"similarity\": \"cosine\"\n",
    "                },\n",
    "            }\n",
    "        }\n",
    "    }\n",
    "    \n",
    "    index_name = \"course-questions\"\n",
    "    \n",
    "    es_client.indices.delete(index=index_name, ignore_unavailable=True)\n",
    "    es_client.indices.create(index=index_name, body=index_settings)\n",
    "\n",
    "\n",
    "    # Loop over each document in documents.\n",
    "    embeddings = []\n",
    "    \n",
    "    for doc in tqdm(documents):    \n",
    "        \n",
    "        question = doc['question']\n",
    "        text = doc['text']\n",
    "        qa_text = f'{question} {text}'\n",
    "    \n",
    "        v_qa = model.encode(question)\n",
    "        v_text = model.encode(text)\n",
    "        v_qa_text = model.encode(qa_text)\n",
    "    \n",
    "        embeddings.append(v_qa_text)\n",
    "\n",
    "    return np.array(embeddings)"
   ]
  },
  {
   "cell_type": "code",
   "execution_count": 28,
   "id": "d0573b80-68bd-4793-88cc-9e8dc2aae31f",
   "metadata": {},
   "outputs": [],
   "source": [
    "# Define hit_rate function.\n",
    "\n",
    "def hit_rate(relevance_total):\n",
    "    cnt = 0\n",
    "\n",
    "    for line in relevance_total:\n",
    "        if True in line:\n",
    "            cnt = cnt + 1\n",
    "\n",
    "    return cnt / len(relevance_total)"
   ]
  },
  {
   "cell_type": "code",
   "execution_count": 29,
   "id": "a059e879-40a7-47ed-889d-6bc66be18889",
   "metadata": {},
   "outputs": [],
   "source": [
    "# Define mrr function.\n",
    "\n",
    "def mrr(relevance_total):\n",
    "    total_score = 0.0\n",
    "\n",
    "    for line in relevance_total:\n",
    "        for rank in range(len(line)):\n",
    "            if line[rank] == True:\n",
    "                total_score = total_score + 1 / (rank + 1)\n",
    "\n",
    "    return total_score / len(relevance_total)"
   ]
  },
  {
   "cell_type": "code",
   "execution_count": null,
   "id": "75a1efc9-32e1-4182-80b3-d13835294062",
   "metadata": {},
   "outputs": [],
   "source": []
  },
  {
   "cell_type": "code",
   "execution_count": 30,
   "id": "3fc58118-caf5-45e5-9e02-2e0e49d0ec8c",
   "metadata": {},
   "outputs": [],
   "source": [
    "# Define function to evaluate hit_rate and mrr.\n",
    "\n",
    "def evaluate(ground_truth):\n",
    "    relevance_total = []\n",
    "\n",
    "    for q in ground_truth:\n",
    "        doc_id = q['document']\n",
    "        doc_que = q['question']\n",
    "        v = vector_v(doc_que)\n",
    "        doc_len = len(v)\n",
    "        X = vector_X(doc_len)\n",
    "        results = search_engine.search(v, num_results=5)\n",
    "        relevance = [d['id'] == doc_id for d in results]\n",
    "        relevance_total.append(relevance)\n",
    "\n",
    "    return {\n",
    "        'hit_rate': hit_rate(relevance_total),\n",
    "        'mrr': mrr(relevance_total),\n",
    "    }"
   ]
  },
  {
   "cell_type": "code",
   "execution_count": null,
   "id": "131ae466-a4df-49d7-a1f9-9ca970762127",
   "metadata": {},
   "outputs": [
    {
     "name": "stderr",
     "output_type": "stream",
     "text": [
      "100%|█████████████████████████████████████████████████████████████████████████████| 375/375 [01:24<00:00,  4.44it/s]\n",
      "100%|█████████████████████████████████████████████████████████████████████████████| 375/375 [01:19<00:00,  4.72it/s]\n",
      "100%|█████████████████████████████████████████████████████████████████████████████| 375/375 [01:19<00:00,  4.70it/s]\n",
      "100%|█████████████████████████████████████████████████████████████████████████████| 375/375 [01:19<00:00,  4.71it/s]\n",
      "100%|█████████████████████████████████████████████████████████████████████████████| 375/375 [01:19<00:00,  4.73it/s]\n",
      "100%|█████████████████████████████████████████████████████████████████████████████| 375/375 [01:19<00:00,  4.73it/s]\n",
      "100%|█████████████████████████████████████████████████████████████████████████████| 375/375 [01:19<00:00,  4.70it/s]\n",
      "100%|█████████████████████████████████████████████████████████████████████████████| 375/375 [01:19<00:00,  4.72it/s]\n",
      "100%|█████████████████████████████████████████████████████████████████████████████| 375/375 [01:19<00:00,  4.72it/s]\n",
      "100%|█████████████████████████████████████████████████████████████████████████████| 375/375 [01:19<00:00,  4.73it/s]\n",
      "100%|█████████████████████████████████████████████████████████████████████████████| 375/375 [01:19<00:00,  4.71it/s]\n",
      "100%|█████████████████████████████████████████████████████████████████████████████| 375/375 [01:19<00:00,  4.72it/s]\n",
      "100%|█████████████████████████████████████████████████████████████████████████████| 375/375 [01:19<00:00,  4.73it/s]\n",
      "100%|█████████████████████████████████████████████████████████████████████████████| 375/375 [01:19<00:00,  4.71it/s]\n",
      "100%|█████████████████████████████████████████████████████████████████████████████| 375/375 [01:19<00:00,  4.73it/s]\n",
      "100%|█████████████████████████████████████████████████████████████████████████████| 375/375 [01:19<00:00,  4.70it/s]\n",
      "100%|█████████████████████████████████████████████████████████████████████████████| 375/375 [01:19<00:00,  4.72it/s]\n",
      "100%|█████████████████████████████████████████████████████████████████████████████| 375/375 [01:19<00:00,  4.71it/s]\n",
      "100%|█████████████████████████████████████████████████████████████████████████████| 375/375 [01:19<00:00,  4.72it/s]\n",
      "100%|█████████████████████████████████████████████████████████████████████████████| 375/375 [01:19<00:00,  4.73it/s]\n",
      "100%|█████████████████████████████████████████████████████████████████████████████| 375/375 [01:19<00:00,  4.73it/s]\n",
      "100%|█████████████████████████████████████████████████████████████████████████████| 375/375 [01:19<00:00,  4.73it/s]\n",
      "100%|█████████████████████████████████████████████████████████████████████████████| 375/375 [01:19<00:00,  4.72it/s]\n",
      "100%|█████████████████████████████████████████████████████████████████████████████| 375/375 [01:19<00:00,  4.72it/s]\n",
      "100%|█████████████████████████████████████████████████████████████████████████████| 375/375 [01:19<00:00,  4.73it/s]\n",
      "100%|█████████████████████████████████████████████████████████████████████████████| 375/375 [01:19<00:00,  4.73it/s]\n",
      "100%|█████████████████████████████████████████████████████████████████████████████| 375/375 [01:19<00:00,  4.73it/s]\n",
      "100%|█████████████████████████████████████████████████████████████████████████████| 375/375 [01:19<00:00,  4.73it/s]\n",
      "100%|█████████████████████████████████████████████████████████████████████████████| 375/375 [01:19<00:00,  4.73it/s]\n",
      "100%|█████████████████████████████████████████████████████████████████████████████| 375/375 [01:19<00:00,  4.71it/s]\n",
      "100%|█████████████████████████████████████████████████████████████████████████████| 375/375 [01:19<00:00,  4.73it/s]\n",
      "100%|█████████████████████████████████████████████████████████████████████████████| 375/375 [01:19<00:00,  4.72it/s]\n",
      "100%|█████████████████████████████████████████████████████████████████████████████| 375/375 [01:19<00:00,  4.73it/s]\n",
      "100%|█████████████████████████████████████████████████████████████████████████████| 375/375 [01:19<00:00,  4.71it/s]\n",
      "100%|█████████████████████████████████████████████████████████████████████████████| 375/375 [01:19<00:00,  4.72it/s]\n",
      "100%|█████████████████████████████████████████████████████████████████████████████| 375/375 [01:19<00:00,  4.73it/s]\n",
      "100%|█████████████████████████████████████████████████████████████████████████████| 375/375 [01:19<00:00,  4.71it/s]\n",
      "100%|█████████████████████████████████████████████████████████████████████████████| 375/375 [01:19<00:00,  4.71it/s]\n",
      "100%|█████████████████████████████████████████████████████████████████████████████| 375/375 [01:19<00:00,  4.73it/s]\n",
      "100%|█████████████████████████████████████████████████████████████████████████████| 375/375 [01:19<00:00,  4.71it/s]\n",
      "100%|█████████████████████████████████████████████████████████████████████████████| 375/375 [01:19<00:00,  4.71it/s]\n",
      "100%|█████████████████████████████████████████████████████████████████████████████| 375/375 [01:18<00:00,  4.76it/s]\n",
      "100%|█████████████████████████████████████████████████████████████████████████████| 375/375 [01:19<00:00,  4.71it/s]\n",
      "100%|█████████████████████████████████████████████████████████████████████████████| 375/375 [01:19<00:00,  4.72it/s]\n",
      "100%|█████████████████████████████████████████████████████████████████████████████| 375/375 [01:19<00:00,  4.72it/s]\n",
      "100%|█████████████████████████████████████████████████████████████████████████████| 375/375 [01:19<00:00,  4.73it/s]\n",
      "100%|█████████████████████████████████████████████████████████████████████████████| 375/375 [01:19<00:00,  4.73it/s]\n",
      "100%|█████████████████████████████████████████████████████████████████████████████| 375/375 [01:19<00:00,  4.72it/s]\n",
      "100%|█████████████████████████████████████████████████████████████████████████████| 375/375 [01:19<00:00,  4.72it/s]\n",
      "100%|█████████████████████████████████████████████████████████████████████████████| 375/375 [01:19<00:00,  4.72it/s]\n",
      "100%|█████████████████████████████████████████████████████████████████████████████| 375/375 [01:19<00:00,  4.73it/s]\n",
      "100%|█████████████████████████████████████████████████████████████████████████████| 375/375 [01:18<00:00,  4.75it/s]\n",
      "100%|█████████████████████████████████████████████████████████████████████████████| 375/375 [01:19<00:00,  4.72it/s]\n",
      "100%|█████████████████████████████████████████████████████████████████████████████| 375/375 [01:19<00:00,  4.73it/s]\n",
      "100%|█████████████████████████████████████████████████████████████████████████████| 375/375 [01:19<00:00,  4.73it/s]\n",
      "100%|█████████████████████████████████████████████████████████████████████████████| 375/375 [01:19<00:00,  4.72it/s]\n",
      "100%|█████████████████████████████████████████████████████████████████████████████| 375/375 [01:19<00:00,  4.71it/s]\n",
      "100%|█████████████████████████████████████████████████████████████████████████████| 375/375 [01:19<00:00,  4.71it/s]\n",
      "100%|█████████████████████████████████████████████████████████████████████████████| 375/375 [01:19<00:00,  4.73it/s]\n",
      "100%|█████████████████████████████████████████████████████████████████████████████| 375/375 [01:19<00:00,  4.74it/s]\n",
      "100%|█████████████████████████████████████████████████████████████████████████████| 375/375 [01:19<00:00,  4.73it/s]\n",
      "100%|█████████████████████████████████████████████████████████████████████████████| 375/375 [01:19<00:00,  4.71it/s]\n",
      "100%|█████████████████████████████████████████████████████████████████████████████| 375/375 [01:19<00:00,  4.72it/s]\n",
      "100%|█████████████████████████████████████████████████████████████████████████████| 375/375 [01:19<00:00,  4.73it/s]\n",
      "100%|█████████████████████████████████████████████████████████████████████████████| 375/375 [01:19<00:00,  4.74it/s]\n",
      "100%|█████████████████████████████████████████████████████████████████████████████| 375/375 [01:19<00:00,  4.72it/s]\n",
      "100%|█████████████████████████████████████████████████████████████████████████████| 375/375 [01:19<00:00,  4.73it/s]\n",
      "100%|█████████████████████████████████████████████████████████████████████████████| 375/375 [01:19<00:00,  4.71it/s]\n",
      "100%|█████████████████████████████████████████████████████████████████████████████| 375/375 [01:19<00:00,  4.72it/s]\n",
      "100%|█████████████████████████████████████████████████████████████████████████████| 375/375 [01:19<00:00,  4.70it/s]\n",
      "100%|█████████████████████████████████████████████████████████████████████████████| 375/375 [01:19<00:00,  4.69it/s]\n",
      "100%|█████████████████████████████████████████████████████████████████████████████| 375/375 [01:19<00:00,  4.72it/s]\n",
      "100%|█████████████████████████████████████████████████████████████████████████████| 375/375 [01:19<00:00,  4.71it/s]\n",
      "100%|█████████████████████████████████████████████████████████████████████████████| 375/375 [01:19<00:00,  4.73it/s]\n",
      "100%|█████████████████████████████████████████████████████████████████████████████| 375/375 [01:20<00:00,  4.68it/s]\n",
      "100%|█████████████████████████████████████████████████████████████████████████████| 375/375 [01:19<00:00,  4.71it/s]\n",
      "100%|█████████████████████████████████████████████████████████████████████████████| 375/375 [01:19<00:00,  4.72it/s]\n",
      "100%|█████████████████████████████████████████████████████████████████████████████| 375/375 [01:19<00:00,  4.71it/s]\n",
      "100%|█████████████████████████████████████████████████████████████████████████████| 375/375 [01:19<00:00,  4.70it/s]\n",
      "100%|█████████████████████████████████████████████████████████████████████████████| 375/375 [01:19<00:00,  4.72it/s]\n",
      "100%|█████████████████████████████████████████████████████████████████████████████| 375/375 [01:19<00:00,  4.72it/s]\n",
      "100%|█████████████████████████████████████████████████████████████████████████████| 375/375 [01:19<00:00,  4.71it/s]\n",
      "100%|█████████████████████████████████████████████████████████████████████████████| 375/375 [01:18<00:00,  4.76it/s]\n",
      "100%|█████████████████████████████████████████████████████████████████████████████| 375/375 [01:18<00:00,  4.78it/s]\n",
      "100%|█████████████████████████████████████████████████████████████████████████████| 375/375 [01:18<00:00,  4.76it/s]\n",
      "100%|█████████████████████████████████████████████████████████████████████████████| 375/375 [01:18<00:00,  4.76it/s]\n",
      "100%|█████████████████████████████████████████████████████████████████████████████| 375/375 [01:18<00:00,  4.79it/s]\n",
      "100%|█████████████████████████████████████████████████████████████████████████████| 375/375 [01:18<00:00,  4.78it/s]\n",
      "100%|█████████████████████████████████████████████████████████████████████████████| 375/375 [01:18<00:00,  4.79it/s]\n",
      "100%|█████████████████████████████████████████████████████████████████████████████| 375/375 [01:18<00:00,  4.79it/s]\n",
      "100%|█████████████████████████████████████████████████████████████████████████████| 375/375 [01:17<00:00,  4.81it/s]\n",
      "100%|█████████████████████████████████████████████████████████████████████████████| 375/375 [01:18<00:00,  4.80it/s]\n",
      "100%|█████████████████████████████████████████████████████████████████████████████| 375/375 [01:18<00:00,  4.78it/s]\n",
      "100%|█████████████████████████████████████████████████████████████████████████████| 375/375 [01:18<00:00,  4.80it/s]\n",
      "100%|█████████████████████████████████████████████████████████████████████████████| 375/375 [01:18<00:00,  4.79it/s]\n",
      "100%|█████████████████████████████████████████████████████████████████████████████| 375/375 [01:18<00:00,  4.80it/s]\n",
      "100%|█████████████████████████████████████████████████████████████████████████████| 375/375 [01:17<00:00,  4.81it/s]\n",
      "100%|█████████████████████████████████████████████████████████████████████████████| 375/375 [01:18<00:00,  4.78it/s]\n",
      "100%|█████████████████████████████████████████████████████████████████████████████| 375/375 [01:18<00:00,  4.78it/s]\n",
      "100%|█████████████████████████████████████████████████████████████████████████████| 375/375 [01:18<00:00,  4.79it/s]\n",
      "100%|█████████████████████████████████████████████████████████████████████████████| 375/375 [01:17<00:00,  4.81it/s]\n",
      "100%|█████████████████████████████████████████████████████████████████████████████| 375/375 [01:17<00:00,  4.81it/s]\n",
      "100%|█████████████████████████████████████████████████████████████████████████████| 375/375 [01:18<00:00,  4.79it/s]\n",
      "100%|█████████████████████████████████████████████████████████████████████████████| 375/375 [01:18<00:00,  4.80it/s]\n",
      "100%|█████████████████████████████████████████████████████████████████████████████| 375/375 [01:18<00:00,  4.80it/s]\n",
      "100%|█████████████████████████████████████████████████████████████████████████████| 375/375 [01:18<00:00,  4.78it/s]\n",
      "100%|█████████████████████████████████████████████████████████████████████████████| 375/375 [01:18<00:00,  4.78it/s]\n",
      "100%|█████████████████████████████████████████████████████████████████████████████| 375/375 [01:18<00:00,  4.80it/s]\n",
      "100%|█████████████████████████████████████████████████████████████████████████████| 375/375 [01:18<00:00,  4.80it/s]\n",
      "100%|█████████████████████████████████████████████████████████████████████████████| 375/375 [01:18<00:00,  4.80it/s]\n",
      "100%|█████████████████████████████████████████████████████████████████████████████| 375/375 [01:18<00:00,  4.80it/s]\n",
      "100%|█████████████████████████████████████████████████████████████████████████████| 375/375 [01:17<00:00,  4.82it/s]\n",
      "100%|█████████████████████████████████████████████████████████████████████████████| 375/375 [01:18<00:00,  4.79it/s]\n",
      "100%|█████████████████████████████████████████████████████████████████████████████| 375/375 [01:17<00:00,  4.81it/s]\n",
      "100%|█████████████████████████████████████████████████████████████████████████████| 375/375 [01:17<00:00,  4.82it/s]\n",
      "100%|█████████████████████████████████████████████████████████████████████████████| 375/375 [01:18<00:00,  4.79it/s]\n",
      "100%|█████████████████████████████████████████████████████████████████████████████| 375/375 [01:18<00:00,  4.79it/s]\n",
      "100%|█████████████████████████████████████████████████████████████████████████████| 375/375 [01:18<00:00,  4.79it/s]\n",
      "100%|█████████████████████████████████████████████████████████████████████████████| 375/375 [01:17<00:00,  4.81it/s]\n",
      "100%|█████████████████████████████████████████████████████████████████████████████| 375/375 [01:17<00:00,  4.81it/s]\n",
      "100%|█████████████████████████████████████████████████████████████████████████████| 375/375 [01:18<00:00,  4.81it/s]\n",
      "100%|█████████████████████████████████████████████████████████████████████████████| 375/375 [01:18<00:00,  4.80it/s]\n",
      "100%|█████████████████████████████████████████████████████████████████████████████| 375/375 [01:18<00:00,  4.80it/s]\n",
      "100%|█████████████████████████████████████████████████████████████████████████████| 375/375 [01:17<00:00,  4.81it/s]\n",
      "100%|█████████████████████████████████████████████████████████████████████████████| 375/375 [01:18<00:00,  4.79it/s]\n",
      "100%|█████████████████████████████████████████████████████████████████████████████| 375/375 [01:18<00:00,  4.79it/s]\n",
      "100%|█████████████████████████████████████████████████████████████████████████████| 375/375 [01:18<00:00,  4.80it/s]\n",
      "100%|█████████████████████████████████████████████████████████████████████████████| 375/375 [01:17<00:00,  4.82it/s]\n",
      "100%|█████████████████████████████████████████████████████████████████████████████| 375/375 [01:18<00:00,  4.80it/s]\n",
      "100%|█████████████████████████████████████████████████████████████████████████████| 375/375 [01:18<00:00,  4.79it/s]\n",
      "100%|█████████████████████████████████████████████████████████████████████████████| 375/375 [01:17<00:00,  4.82it/s]\n",
      "100%|█████████████████████████████████████████████████████████████████████████████| 375/375 [01:17<00:00,  4.83it/s]\n",
      "100%|█████████████████████████████████████████████████████████████████████████████| 375/375 [01:18<00:00,  4.80it/s]\n",
      "100%|█████████████████████████████████████████████████████████████████████████████| 375/375 [01:17<00:00,  4.83it/s]\n",
      "100%|█████████████████████████████████████████████████████████████████████████████| 375/375 [01:17<00:00,  4.82it/s]\n",
      "100%|█████████████████████████████████████████████████████████████████████████████| 375/375 [01:17<00:00,  4.81it/s]\n",
      "100%|█████████████████████████████████████████████████████████████████████████████| 375/375 [01:17<00:00,  4.83it/s]\n",
      "100%|█████████████████████████████████████████████████████████████████████████████| 375/375 [01:17<00:00,  4.82it/s]\n",
      "100%|█████████████████████████████████████████████████████████████████████████████| 375/375 [01:18<00:00,  4.81it/s]\n",
      "100%|█████████████████████████████████████████████████████████████████████████████| 375/375 [01:17<00:00,  4.81it/s]\n",
      "100%|█████████████████████████████████████████████████████████████████████████████| 375/375 [01:18<00:00,  4.80it/s]\n",
      "100%|█████████████████████████████████████████████████████████████████████████████| 375/375 [01:18<00:00,  4.81it/s]\n",
      "100%|█████████████████████████████████████████████████████████████████████████████| 375/375 [01:18<00:00,  4.80it/s]\n",
      "100%|█████████████████████████████████████████████████████████████████████████████| 375/375 [01:17<00:00,  4.81it/s]\n",
      "100%|█████████████████████████████████████████████████████████████████████████████| 375/375 [01:17<00:00,  4.83it/s]\n",
      "100%|█████████████████████████████████████████████████████████████████████████████| 375/375 [01:17<00:00,  4.82it/s]\n",
      "100%|█████████████████████████████████████████████████████████████████████████████| 375/375 [01:17<00:00,  4.83it/s]\n",
      " 88%|███████████████████████████████████████████████████████████████████▉         | 331/375 [01:08<00:06,  6.75it/s]"
     ]
    }
   ],
   "source": [
    "evaluate(ground_truth)"
   ]
  },
  {
   "cell_type": "code",
   "execution_count": null,
   "id": "7e526fa2-de30-4272-ad4b-908fe9f46b3b",
   "metadata": {},
   "outputs": [],
   "source": []
  },
  {
   "cell_type": "code",
   "execution_count": 31,
   "id": "b9b82ad7-3ac1-419f-9e4c-ba70550f4df0",
   "metadata": {},
   "outputs": [],
   "source": [
    "# Define function to evaluate hit_rate and mrr.\n",
    "\n",
    "def evaluate(ground_truth):\n",
    "    relevance_total = []\n",
    "\n",
    "    for q in tqdm(ground_truth):\n",
    "        doc_id = q['document']\n",
    "        doc_que = q['question']\n",
    "        v = vector_v(doc_que)\n",
    "        doc_len = len(v)\n",
    "        X = vector_X(doc_len)\n",
    "        results = search_engine.search(v, num_results=5)\n",
    "        relevance = [d['id'] == doc_id for d in results]\n",
    "        relevance_total.append(relevance)\n",
    "\n",
    "    return {\n",
    "        'hit_rate': hit_rate(relevance_total),\n",
    "        'mrr': mrr(relevance_total),\n",
    "    }"
   ]
  },
  {
   "cell_type": "raw",
   "id": "a8b0a8ae-5383-4361-b6a8-dd027629f1b6",
   "metadata": {},
   "source": [
    "evaluate(ground_truth)"
   ]
  },
  {
   "cell_type": "code",
   "execution_count": null,
   "id": "552d10bb",
   "metadata": {},
   "outputs": [],
   "source": [
    "# Question 4 answer.\n",
    "print(f'The answer to question 4 is: {max_score}')"
   ]
  },
  {
   "cell_type": "code",
   "execution_count": null,
   "id": "74e3e28a-9c3d-4530-bfbf-ec6fcb3ddbfb",
   "metadata": {},
   "outputs": [],
   "source": []
  },
  {
   "cell_type": "markdown",
   "id": "d2acfc27",
   "metadata": {},
   "source": [
    "## Q5. Indexing with Elasticsearch\n",
    "\n",
    "Now let's index these documents with elasticsearch\n",
    "\n",
    "* Create the index with the same settings as in the module (but change the dimensions)\n",
    "* Index the embeddings (note: you've already computed them)\n",
    "\n",
    "After indexing, let's perform the search of the same query from Q1.\n",
    "\n",
    "What's the ID of the document with the highest score?"
   ]
  },
  {
   "cell_type": "code",
   "execution_count": null,
   "id": "bb36dae9",
   "metadata": {},
   "outputs": [],
   "source": []
  },
  {
   "cell_type": "code",
   "execution_count": null,
   "id": "b584edb1",
   "metadata": {},
   "outputs": [],
   "source": []
  },
  {
   "cell_type": "code",
   "execution_count": null,
   "id": "a357f65c",
   "metadata": {},
   "outputs": [],
   "source": []
  },
  {
   "cell_type": "code",
   "execution_count": null,
   "id": "e368996b",
   "metadata": {},
   "outputs": [],
   "source": []
  },
  {
   "cell_type": "code",
   "execution_count": null,
   "id": "ed36d7ee",
   "metadata": {},
   "outputs": [],
   "source": [
    "## Q6. Hit-rate for Elasticsearch\n",
    "\n",
    "The search engine we used in Q4 computed the similarity between\n",
    "the query and ALL the vectors in our database. Usually this is \n",
    "not practical, as we may have a lot of data.\n",
    "\n",
    "Elasticsearch uses approximate techniques to make it faster. \n",
    "\n",
    "Let's evaluate how worse the results are when we switch from\n",
    "exact search (as in Q4) to approximate search with Elastic.\n",
    "\n",
    "What's hitrate for our dataset for Elastic?\n",
    "\n",
    "* 0.93\n",
    "* 0.73\n",
    "* 0.53\n",
    "* 0.33"
   ]
  },
  {
   "cell_type": "code",
   "execution_count": null,
   "id": "c75909f8-6d2d-4eb9-b420-c85c27ccea96",
   "metadata": {},
   "outputs": [],
   "source": []
  }
 ],
 "metadata": {
  "kernelspec": {
   "display_name": "Python 3 (ipykernel)",
   "language": "python",
   "name": "python3"
  },
  "language_info": {
   "codemirror_mode": {
    "name": "ipython",
    "version": 3
   },
   "file_extension": ".py",
   "mimetype": "text/x-python",
   "name": "python",
   "nbconvert_exporter": "python",
   "pygments_lexer": "ipython3",
   "version": "3.9.19"
  }
 },
 "nbformat": 4,
 "nbformat_minor": 5
}
